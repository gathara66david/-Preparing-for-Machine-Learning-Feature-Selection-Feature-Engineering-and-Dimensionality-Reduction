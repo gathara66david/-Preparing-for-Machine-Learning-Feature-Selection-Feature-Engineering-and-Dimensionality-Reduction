{
 "cells": [
  {
   "cell_type": "code",
   "execution_count": null,
   "metadata": {
    "vscode": {
     "languageId": "plaintext"
    }
   },
   "outputs": [],
   "source": [
    " \"\"\"We learned a lot of feature selection and engineering techniques here. To\n",
    " practice some of these, use the same loans dataset with the \n",
    "LOAN_DEFAULT\n",
    " column as the target variable, and perform the following:\n",
    " Plot the ANOVA F-scores and p-values for the numeric features.\n",
    " Evaluate the \n",
    "STATE_ID feature and decide on the number of top state\n",
    " IDs to keep. Put all other state IDs in an \n",
    "other column, and then one\n",
    "hot encode this feature. Finally, join it together with your original loan\n",
    " DataFrame.\n",
    " Extract the day of week from the \n",
    "DISBURSAL_DATE feature and check\n",
    " the phi-k correlation. Comment on the strength of the correlation and if\n",
    " this new feature should be used.\n",
    " As always, write some analysis explaining and interpreting the results.\n",
    " Using another loan default dataset (the \"\n",
    " default of credit card\n",
    " clients.xls \" file in the GitHub repository for the book under\n",
    " Chapter10/test_your_knowledge/data ), perform PCA and examine the\n",
    " explained variance ratio of the PCA components. Decide on how many\n",
    " PCA components you might keep for further analysis, such as ML. Don't\n",
    " use the \n",
    "default payment next month column, which is the target.\"\"\"\n"
   ]
  },
  {
   "cell_type": "code",
   "execution_count": null,
   "metadata": {
    "vscode": {
     "languageId": "plaintext"
    }
   },
   "outputs": [],
   "source": [
    "This data comes from the UCI ML repository:\n",
    "https://archive.ics.uci.edu/ml/datasets/default+of+credit+card+clients."
   ]
  }
 ],
 "metadata": {
  "language_info": {
   "name": "python"
  }
 },
 "nbformat": 4,
 "nbformat_minor": 2
}
